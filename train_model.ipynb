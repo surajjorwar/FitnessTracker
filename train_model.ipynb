{
  "nbformat": 4,
  "nbformat_minor": 0,
  "metadata": {
    "colab": {
      "provenance": [],
      "mount_file_id": "1CZs7o12kAGV_8d-ujyw_TQwoDJYdmgYr",
      "authorship_tag": "ABX9TyONFhf1/80an8ZK/m1UZmNM",
      "include_colab_link": true
    },
    "kernelspec": {
      "name": "python3",
      "display_name": "Python 3"
    },
    "language_info": {
      "name": "python"
    }
  },
  "cells": [
    {
      "cell_type": "markdown",
      "metadata": {
        "id": "view-in-github",
        "colab_type": "text"
      },
      "source": [
        "<a href=\"https://colab.research.google.com/github/surajjorwar/FitnessTracker/blob/main/train_model.ipynb\" target=\"_parent\"><img src=\"https://colab.research.google.com/assets/colab-badge.svg\" alt=\"Open In Colab\"/></a>"
      ]
    },
    {
      "cell_type": "code",
      "source": [
        "%cd '/content/drive/MyDrive/FitnessTracker/FitnessTracker/data-science-template-main/models'"
      ],
      "metadata": {
        "colab": {
          "base_uri": "https://localhost:8080/"
        },
        "id": "LDns2xcjcXfV",
        "outputId": "7d29157b-488a-4da4-d430-3e97cb11efee"
      },
      "execution_count": 2,
      "outputs": [
        {
          "output_type": "stream",
          "name": "stdout",
          "text": [
            "/content/drive/MyDrive/FitnessTracker/FitnessTracker/data-science-template-main/models\n"
          ]
        }
      ]
    },
    {
      "cell_type": "code",
      "execution_count": 3,
      "metadata": {
        "id": "Q7XDEmWxboxn"
      },
      "outputs": [],
      "source": [
        "import numpy as np\n",
        "import pandas as pd\n",
        "from sklearn.model_selection import train_test_split\n",
        "import matplotlib.pyplot as plt\n",
        "from LearningAlgorithms import ClassificationAlgorithms\n",
        "import seaborn as sns\n",
        "import itertools\n",
        "from sklearn.metrics import accuracy_score, confusion_matrix"
      ]
    },
    {
      "cell_type": "markdown",
      "source": [
        "Plot settings"
      ],
      "metadata": {
        "id": "3-0J680Bb_r0"
      }
    },
    {
      "cell_type": "code",
      "source": [
        "plt.style.use(\"fivethirtyeight\")\n",
        "plt.rcParams[\"figure.figsize\"] = (20, 5)\n",
        "plt.rcParams[\"figure.dpi\"] = 100\n",
        "plt.rcParams[\"lines.linewidth\"] = 2\n"
      ],
      "metadata": {
        "id": "XUvGU1qBb7si"
      },
      "execution_count": 4,
      "outputs": []
    },
    {
      "cell_type": "code",
      "source": [
        "df = pd.read_pickle('/content/drive/MyDrive/FitnessTracker/FitnessTracker/data-science-template-main/data/interim/03_data_features.pkl')"
      ],
      "metadata": {
        "id": "SbwIoLjac-RQ"
      },
      "execution_count": 5,
      "outputs": []
    },
    {
      "cell_type": "code",
      "source": [
        "df.head()"
      ],
      "metadata": {
        "colab": {
          "base_uri": "https://localhost:8080/",
          "height": 374
        },
        "id": "oJ__5XsXduvW",
        "outputId": "c3ae4f8e-764d-4de1-8891-9cff7d42e3f7"
      },
      "execution_count": 6,
      "outputs": [
        {
          "output_type": "execute_result",
          "data": {
            "text/plain": [
              "                            acc_x     acc_y     acc_z      gyr_x      gyr_y  \\\n",
              "epoch (ms)                                                                    \n",
              "2019-01-11 15:08:08.000 -0.172350  0.909033 -0.168556 -27.895242 -10.831760   \n",
              "2019-01-11 15:08:08.400 -0.024777  0.860474 -0.059254  -2.040040  -1.316930   \n",
              "2019-01-11 15:08:08.800 -0.063378  0.997048 -0.033869   1.164754  -1.844231   \n",
              "2019-01-11 15:08:09.200 -0.044993  0.971809 -0.038011   2.469483  -3.482648   \n",
              "2019-01-11 15:08:09.600 -0.046925  0.911220 -0.056463   8.471911   4.745072   \n",
              "\n",
              "                             gyr_z participant  label category  set  ...  \\\n",
              "epoch (ms)                                                           ...   \n",
              "2019-01-11 15:08:08.000  26.285743           B  bench    heavy   71  ...   \n",
              "2019-01-11 15:08:08.400   1.986210           B  bench    heavy   71  ...   \n",
              "2019-01-11 15:08:08.800  -1.240332           B  bench    heavy   71  ...   \n",
              "2019-01-11 15:08:09.200   3.563210           B  bench    heavy   71  ...   \n",
              "2019-01-11 15:08:09.600  -8.708681           B  bench    heavy   71  ...   \n",
              "\n",
              "                         gyr_r_pse  gyr_r_freq_0.0_Hz_ws_14  \\\n",
              "epoch (ms)                                                    \n",
              "2019-01-11 15:08:08.000   0.404506               241.915837   \n",
              "2019-01-11 15:08:08.400   0.376805               266.641927   \n",
              "2019-01-11 15:08:08.800   0.508919               262.078311   \n",
              "2019-01-11 15:08:09.200   0.492961               256.245567   \n",
              "2019-01-11 15:08:09.600   0.363189               214.663711   \n",
              "\n",
              "                         gyr_r_freq_0.357_Hz_ws_14  gyr_r_freq_0.714_Hz_ws_14  \\\n",
              "epoch (ms)                                                                      \n",
              "2019-01-11 15:08:08.000                 -32.414519                  17.800054   \n",
              "2019-01-11 15:08:08.400                 -45.027971                 -65.743054   \n",
              "2019-01-11 15:08:08.800                 -56.234625                 -30.091473   \n",
              "2019-01-11 15:08:09.200                 -31.989318                  69.348370   \n",
              "2019-01-11 15:08:09.600                 -12.227055                  13.687545   \n",
              "\n",
              "                         gyr_r_freq_1.071_Hz_ws_14  gyr_r_freq_1.429_Hz_ws_14  \\\n",
              "epoch (ms)                                                                      \n",
              "2019-01-11 15:08:08.000                  -7.090627                 -23.559585   \n",
              "2019-01-11 15:08:08.400                 -12.016695                   8.716330   \n",
              "2019-01-11 15:08:08.800                   3.458370                 -13.917311   \n",
              "2019-01-11 15:08:09.200                   3.624009                  17.424045   \n",
              "2019-01-11 15:08:09.600                  10.833066                   6.326124   \n",
              "\n",
              "                         gyr_r_freq_1.786_Hz_ws_14  gyr_r_freq_2.143_Hz_ws_14  \\\n",
              "epoch (ms)                                                                      \n",
              "2019-01-11 15:08:08.000                  15.300362                 -56.937517   \n",
              "2019-01-11 15:08:08.400                  14.278175                   5.797033   \n",
              "2019-01-11 15:08:08.800                 -48.217504                  42.767778   \n",
              "2019-01-11 15:08:09.200                  36.328368                  26.990522   \n",
              "2019-01-11 15:08:09.600                  25.453064                 -35.551747   \n",
              "\n",
              "                         gyr_r_freq_2.5_Hz_ws_14  cluster  \n",
              "epoch (ms)                                                 \n",
              "2019-01-11 15:08:08.000                -9.887314        0  \n",
              "2019-01-11 15:08:08.400                -2.207473        0  \n",
              "2019-01-11 15:08:08.800               -11.602442        0  \n",
              "2019-01-11 15:08:09.200                -9.999852        0  \n",
              "2019-01-11 15:08:09.600               -33.538487        0  \n",
              "\n",
              "[5 rows x 120 columns]"
            ],
            "text/html": [
              "\n",
              "  <div id=\"df-3941b5ed-d7f2-44f0-8c25-da4d455303db\" class=\"colab-df-container\">\n",
              "    <div>\n",
              "<style scoped>\n",
              "    .dataframe tbody tr th:only-of-type {\n",
              "        vertical-align: middle;\n",
              "    }\n",
              "\n",
              "    .dataframe tbody tr th {\n",
              "        vertical-align: top;\n",
              "    }\n",
              "\n",
              "    .dataframe thead th {\n",
              "        text-align: right;\n",
              "    }\n",
              "</style>\n",
              "<table border=\"1\" class=\"dataframe\">\n",
              "  <thead>\n",
              "    <tr style=\"text-align: right;\">\n",
              "      <th></th>\n",
              "      <th>acc_x</th>\n",
              "      <th>acc_y</th>\n",
              "      <th>acc_z</th>\n",
              "      <th>gyr_x</th>\n",
              "      <th>gyr_y</th>\n",
              "      <th>gyr_z</th>\n",
              "      <th>participant</th>\n",
              "      <th>label</th>\n",
              "      <th>category</th>\n",
              "      <th>set</th>\n",
              "      <th>...</th>\n",
              "      <th>gyr_r_pse</th>\n",
              "      <th>gyr_r_freq_0.0_Hz_ws_14</th>\n",
              "      <th>gyr_r_freq_0.357_Hz_ws_14</th>\n",
              "      <th>gyr_r_freq_0.714_Hz_ws_14</th>\n",
              "      <th>gyr_r_freq_1.071_Hz_ws_14</th>\n",
              "      <th>gyr_r_freq_1.429_Hz_ws_14</th>\n",
              "      <th>gyr_r_freq_1.786_Hz_ws_14</th>\n",
              "      <th>gyr_r_freq_2.143_Hz_ws_14</th>\n",
              "      <th>gyr_r_freq_2.5_Hz_ws_14</th>\n",
              "      <th>cluster</th>\n",
              "    </tr>\n",
              "    <tr>\n",
              "      <th>epoch (ms)</th>\n",
              "      <th></th>\n",
              "      <th></th>\n",
              "      <th></th>\n",
              "      <th></th>\n",
              "      <th></th>\n",
              "      <th></th>\n",
              "      <th></th>\n",
              "      <th></th>\n",
              "      <th></th>\n",
              "      <th></th>\n",
              "      <th></th>\n",
              "      <th></th>\n",
              "      <th></th>\n",
              "      <th></th>\n",
              "      <th></th>\n",
              "      <th></th>\n",
              "      <th></th>\n",
              "      <th></th>\n",
              "      <th></th>\n",
              "      <th></th>\n",
              "      <th></th>\n",
              "    </tr>\n",
              "  </thead>\n",
              "  <tbody>\n",
              "    <tr>\n",
              "      <th>2019-01-11 15:08:08.000</th>\n",
              "      <td>-0.172350</td>\n",
              "      <td>0.909033</td>\n",
              "      <td>-0.168556</td>\n",
              "      <td>-27.895242</td>\n",
              "      <td>-10.831760</td>\n",
              "      <td>26.285743</td>\n",
              "      <td>B</td>\n",
              "      <td>bench</td>\n",
              "      <td>heavy</td>\n",
              "      <td>71</td>\n",
              "      <td>...</td>\n",
              "      <td>0.404506</td>\n",
              "      <td>241.915837</td>\n",
              "      <td>-32.414519</td>\n",
              "      <td>17.800054</td>\n",
              "      <td>-7.090627</td>\n",
              "      <td>-23.559585</td>\n",
              "      <td>15.300362</td>\n",
              "      <td>-56.937517</td>\n",
              "      <td>-9.887314</td>\n",
              "      <td>0</td>\n",
              "    </tr>\n",
              "    <tr>\n",
              "      <th>2019-01-11 15:08:08.400</th>\n",
              "      <td>-0.024777</td>\n",
              "      <td>0.860474</td>\n",
              "      <td>-0.059254</td>\n",
              "      <td>-2.040040</td>\n",
              "      <td>-1.316930</td>\n",
              "      <td>1.986210</td>\n",
              "      <td>B</td>\n",
              "      <td>bench</td>\n",
              "      <td>heavy</td>\n",
              "      <td>71</td>\n",
              "      <td>...</td>\n",
              "      <td>0.376805</td>\n",
              "      <td>266.641927</td>\n",
              "      <td>-45.027971</td>\n",
              "      <td>-65.743054</td>\n",
              "      <td>-12.016695</td>\n",
              "      <td>8.716330</td>\n",
              "      <td>14.278175</td>\n",
              "      <td>5.797033</td>\n",
              "      <td>-2.207473</td>\n",
              "      <td>0</td>\n",
              "    </tr>\n",
              "    <tr>\n",
              "      <th>2019-01-11 15:08:08.800</th>\n",
              "      <td>-0.063378</td>\n",
              "      <td>0.997048</td>\n",
              "      <td>-0.033869</td>\n",
              "      <td>1.164754</td>\n",
              "      <td>-1.844231</td>\n",
              "      <td>-1.240332</td>\n",
              "      <td>B</td>\n",
              "      <td>bench</td>\n",
              "      <td>heavy</td>\n",
              "      <td>71</td>\n",
              "      <td>...</td>\n",
              "      <td>0.508919</td>\n",
              "      <td>262.078311</td>\n",
              "      <td>-56.234625</td>\n",
              "      <td>-30.091473</td>\n",
              "      <td>3.458370</td>\n",
              "      <td>-13.917311</td>\n",
              "      <td>-48.217504</td>\n",
              "      <td>42.767778</td>\n",
              "      <td>-11.602442</td>\n",
              "      <td>0</td>\n",
              "    </tr>\n",
              "    <tr>\n",
              "      <th>2019-01-11 15:08:09.200</th>\n",
              "      <td>-0.044993</td>\n",
              "      <td>0.971809</td>\n",
              "      <td>-0.038011</td>\n",
              "      <td>2.469483</td>\n",
              "      <td>-3.482648</td>\n",
              "      <td>3.563210</td>\n",
              "      <td>B</td>\n",
              "      <td>bench</td>\n",
              "      <td>heavy</td>\n",
              "      <td>71</td>\n",
              "      <td>...</td>\n",
              "      <td>0.492961</td>\n",
              "      <td>256.245567</td>\n",
              "      <td>-31.989318</td>\n",
              "      <td>69.348370</td>\n",
              "      <td>3.624009</td>\n",
              "      <td>17.424045</td>\n",
              "      <td>36.328368</td>\n",
              "      <td>26.990522</td>\n",
              "      <td>-9.999852</td>\n",
              "      <td>0</td>\n",
              "    </tr>\n",
              "    <tr>\n",
              "      <th>2019-01-11 15:08:09.600</th>\n",
              "      <td>-0.046925</td>\n",
              "      <td>0.911220</td>\n",
              "      <td>-0.056463</td>\n",
              "      <td>8.471911</td>\n",
              "      <td>4.745072</td>\n",
              "      <td>-8.708681</td>\n",
              "      <td>B</td>\n",
              "      <td>bench</td>\n",
              "      <td>heavy</td>\n",
              "      <td>71</td>\n",
              "      <td>...</td>\n",
              "      <td>0.363189</td>\n",
              "      <td>214.663711</td>\n",
              "      <td>-12.227055</td>\n",
              "      <td>13.687545</td>\n",
              "      <td>10.833066</td>\n",
              "      <td>6.326124</td>\n",
              "      <td>25.453064</td>\n",
              "      <td>-35.551747</td>\n",
              "      <td>-33.538487</td>\n",
              "      <td>0</td>\n",
              "    </tr>\n",
              "  </tbody>\n",
              "</table>\n",
              "<p>5 rows × 120 columns</p>\n",
              "</div>\n",
              "    <div class=\"colab-df-buttons\">\n",
              "\n",
              "  <div class=\"colab-df-container\">\n",
              "    <button class=\"colab-df-convert\" onclick=\"convertToInteractive('df-3941b5ed-d7f2-44f0-8c25-da4d455303db')\"\n",
              "            title=\"Convert this dataframe to an interactive table.\"\n",
              "            style=\"display:none;\">\n",
              "\n",
              "  <svg xmlns=\"http://www.w3.org/2000/svg\" height=\"24px\" viewBox=\"0 -960 960 960\">\n",
              "    <path d=\"M120-120v-720h720v720H120Zm60-500h600v-160H180v160Zm220 220h160v-160H400v160Zm0 220h160v-160H400v160ZM180-400h160v-160H180v160Zm440 0h160v-160H620v160ZM180-180h160v-160H180v160Zm440 0h160v-160H620v160Z\"/>\n",
              "  </svg>\n",
              "    </button>\n",
              "\n",
              "  <style>\n",
              "    .colab-df-container {\n",
              "      display:flex;\n",
              "      gap: 12px;\n",
              "    }\n",
              "\n",
              "    .colab-df-convert {\n",
              "      background-color: #E8F0FE;\n",
              "      border: none;\n",
              "      border-radius: 50%;\n",
              "      cursor: pointer;\n",
              "      display: none;\n",
              "      fill: #1967D2;\n",
              "      height: 32px;\n",
              "      padding: 0 0 0 0;\n",
              "      width: 32px;\n",
              "    }\n",
              "\n",
              "    .colab-df-convert:hover {\n",
              "      background-color: #E2EBFA;\n",
              "      box-shadow: 0px 1px 2px rgba(60, 64, 67, 0.3), 0px 1px 3px 1px rgba(60, 64, 67, 0.15);\n",
              "      fill: #174EA6;\n",
              "    }\n",
              "\n",
              "    .colab-df-buttons div {\n",
              "      margin-bottom: 4px;\n",
              "    }\n",
              "\n",
              "    [theme=dark] .colab-df-convert {\n",
              "      background-color: #3B4455;\n",
              "      fill: #D2E3FC;\n",
              "    }\n",
              "\n",
              "    [theme=dark] .colab-df-convert:hover {\n",
              "      background-color: #434B5C;\n",
              "      box-shadow: 0px 1px 3px 1px rgba(0, 0, 0, 0.15);\n",
              "      filter: drop-shadow(0px 1px 2px rgba(0, 0, 0, 0.3));\n",
              "      fill: #FFFFFF;\n",
              "    }\n",
              "  </style>\n",
              "\n",
              "    <script>\n",
              "      const buttonEl =\n",
              "        document.querySelector('#df-3941b5ed-d7f2-44f0-8c25-da4d455303db button.colab-df-convert');\n",
              "      buttonEl.style.display =\n",
              "        google.colab.kernel.accessAllowed ? 'block' : 'none';\n",
              "\n",
              "      async function convertToInteractive(key) {\n",
              "        const element = document.querySelector('#df-3941b5ed-d7f2-44f0-8c25-da4d455303db');\n",
              "        const dataTable =\n",
              "          await google.colab.kernel.invokeFunction('convertToInteractive',\n",
              "                                                    [key], {});\n",
              "        if (!dataTable) return;\n",
              "\n",
              "        const docLinkHtml = 'Like what you see? Visit the ' +\n",
              "          '<a target=\"_blank\" href=https://colab.research.google.com/notebooks/data_table.ipynb>data table notebook</a>'\n",
              "          + ' to learn more about interactive tables.';\n",
              "        element.innerHTML = '';\n",
              "        dataTable['output_type'] = 'display_data';\n",
              "        await google.colab.output.renderOutput(dataTable, element);\n",
              "        const docLink = document.createElement('div');\n",
              "        docLink.innerHTML = docLinkHtml;\n",
              "        element.appendChild(docLink);\n",
              "      }\n",
              "    </script>\n",
              "  </div>\n",
              "\n",
              "\n",
              "<div id=\"df-7b4777d1-3944-4096-b806-81f3b771c713\">\n",
              "  <button class=\"colab-df-quickchart\" onclick=\"quickchart('df-7b4777d1-3944-4096-b806-81f3b771c713')\"\n",
              "            title=\"Suggest charts\"\n",
              "            style=\"display:none;\">\n",
              "\n",
              "<svg xmlns=\"http://www.w3.org/2000/svg\" height=\"24px\"viewBox=\"0 0 24 24\"\n",
              "     width=\"24px\">\n",
              "    <g>\n",
              "        <path d=\"M19 3H5c-1.1 0-2 .9-2 2v14c0 1.1.9 2 2 2h14c1.1 0 2-.9 2-2V5c0-1.1-.9-2-2-2zM9 17H7v-7h2v7zm4 0h-2V7h2v10zm4 0h-2v-4h2v4z\"/>\n",
              "    </g>\n",
              "</svg>\n",
              "  </button>\n",
              "\n",
              "<style>\n",
              "  .colab-df-quickchart {\n",
              "      --bg-color: #E8F0FE;\n",
              "      --fill-color: #1967D2;\n",
              "      --hover-bg-color: #E2EBFA;\n",
              "      --hover-fill-color: #174EA6;\n",
              "      --disabled-fill-color: #AAA;\n",
              "      --disabled-bg-color: #DDD;\n",
              "  }\n",
              "\n",
              "  [theme=dark] .colab-df-quickchart {\n",
              "      --bg-color: #3B4455;\n",
              "      --fill-color: #D2E3FC;\n",
              "      --hover-bg-color: #434B5C;\n",
              "      --hover-fill-color: #FFFFFF;\n",
              "      --disabled-bg-color: #3B4455;\n",
              "      --disabled-fill-color: #666;\n",
              "  }\n",
              "\n",
              "  .colab-df-quickchart {\n",
              "    background-color: var(--bg-color);\n",
              "    border: none;\n",
              "    border-radius: 50%;\n",
              "    cursor: pointer;\n",
              "    display: none;\n",
              "    fill: var(--fill-color);\n",
              "    height: 32px;\n",
              "    padding: 0;\n",
              "    width: 32px;\n",
              "  }\n",
              "\n",
              "  .colab-df-quickchart:hover {\n",
              "    background-color: var(--hover-bg-color);\n",
              "    box-shadow: 0 1px 2px rgba(60, 64, 67, 0.3), 0 1px 3px 1px rgba(60, 64, 67, 0.15);\n",
              "    fill: var(--button-hover-fill-color);\n",
              "  }\n",
              "\n",
              "  .colab-df-quickchart-complete:disabled,\n",
              "  .colab-df-quickchart-complete:disabled:hover {\n",
              "    background-color: var(--disabled-bg-color);\n",
              "    fill: var(--disabled-fill-color);\n",
              "    box-shadow: none;\n",
              "  }\n",
              "\n",
              "  .colab-df-spinner {\n",
              "    border: 2px solid var(--fill-color);\n",
              "    border-color: transparent;\n",
              "    border-bottom-color: var(--fill-color);\n",
              "    animation:\n",
              "      spin 1s steps(1) infinite;\n",
              "  }\n",
              "\n",
              "  @keyframes spin {\n",
              "    0% {\n",
              "      border-color: transparent;\n",
              "      border-bottom-color: var(--fill-color);\n",
              "      border-left-color: var(--fill-color);\n",
              "    }\n",
              "    20% {\n",
              "      border-color: transparent;\n",
              "      border-left-color: var(--fill-color);\n",
              "      border-top-color: var(--fill-color);\n",
              "    }\n",
              "    30% {\n",
              "      border-color: transparent;\n",
              "      border-left-color: var(--fill-color);\n",
              "      border-top-color: var(--fill-color);\n",
              "      border-right-color: var(--fill-color);\n",
              "    }\n",
              "    40% {\n",
              "      border-color: transparent;\n",
              "      border-right-color: var(--fill-color);\n",
              "      border-top-color: var(--fill-color);\n",
              "    }\n",
              "    60% {\n",
              "      border-color: transparent;\n",
              "      border-right-color: var(--fill-color);\n",
              "    }\n",
              "    80% {\n",
              "      border-color: transparent;\n",
              "      border-right-color: var(--fill-color);\n",
              "      border-bottom-color: var(--fill-color);\n",
              "    }\n",
              "    90% {\n",
              "      border-color: transparent;\n",
              "      border-bottom-color: var(--fill-color);\n",
              "    }\n",
              "  }\n",
              "</style>\n",
              "\n",
              "  <script>\n",
              "    async function quickchart(key) {\n",
              "      const quickchartButtonEl =\n",
              "        document.querySelector('#' + key + ' button');\n",
              "      quickchartButtonEl.disabled = true;  // To prevent multiple clicks.\n",
              "      quickchartButtonEl.classList.add('colab-df-spinner');\n",
              "      try {\n",
              "        const charts = await google.colab.kernel.invokeFunction(\n",
              "            'suggestCharts', [key], {});\n",
              "      } catch (error) {\n",
              "        console.error('Error during call to suggestCharts:', error);\n",
              "      }\n",
              "      quickchartButtonEl.classList.remove('colab-df-spinner');\n",
              "      quickchartButtonEl.classList.add('colab-df-quickchart-complete');\n",
              "    }\n",
              "    (() => {\n",
              "      let quickchartButtonEl =\n",
              "        document.querySelector('#df-7b4777d1-3944-4096-b806-81f3b771c713 button');\n",
              "      quickchartButtonEl.style.display =\n",
              "        google.colab.kernel.accessAllowed ? 'block' : 'none';\n",
              "    })();\n",
              "  </script>\n",
              "</div>\n",
              "\n",
              "    </div>\n",
              "  </div>\n"
            ],
            "application/vnd.google.colaboratory.intrinsic+json": {
              "type": "dataframe",
              "variable_name": "df"
            }
          },
          "metadata": {},
          "execution_count": 6
        }
      ]
    },
    {
      "cell_type": "markdown",
      "source": [
        "# Create a training and test set"
      ],
      "metadata": {
        "id": "EIllJk8ueigs"
      }
    },
    {
      "cell_type": "code",
      "source": [
        "df_train = df.drop(['participant','category','set'],axis = 1 )"
      ],
      "metadata": {
        "id": "WfoBUiHiejPh"
      },
      "execution_count": 7,
      "outputs": []
    },
    {
      "cell_type": "code",
      "source": [
        "X = df_train.drop('label',axis = 1 )\n",
        "y = df_train['label']"
      ],
      "metadata": {
        "id": "J6SXhpG9fjnT"
      },
      "execution_count": 8,
      "outputs": []
    },
    {
      "cell_type": "code",
      "source": [
        "X_train , X_test , y_train , y_test = train_test_split(X , y , test_size = 0.25 ,random_state = 42 ,stratify=y  )"
      ],
      "metadata": {
        "id": "eiQ_DfBsgna0"
      },
      "execution_count": 9,
      "outputs": []
    },
    {
      "cell_type": "code",
      "source": [
        "fig , ax = plt.subplots(figsize = (10,5))\n",
        "df_train['label'].value_counts().plot(\n",
        "    kind = 'bar' , ax = ax  , color = 'lightblue' , label = 'Total'\n",
        ")\n",
        "y_train.value_counts().plot(kind = 'bar',ax= ax , color = 'dodgerblue',label = 'Train')\n",
        "y_test.value_counts().plot(kind = 'bar',ax= ax , color = 'royalblue',label = 'Test')\n",
        "plt.legend()\n",
        "plt.show()\n"
      ],
      "metadata": {
        "colab": {
          "base_uri": "https://localhost:8080/",
          "height": 535
        },
        "id": "1eVSO8gSiQ8p",
        "outputId": "41bfb510-3f7c-4196-b34c-e4ee31da274f"
      },
      "execution_count": 10,
      "outputs": [
        {
          "output_type": "display_data",
          "data": {
            "text/plain": [
              "<Figure size 1000x500 with 1 Axes>"
            ],
            "image/png": "[encoded data removed]"
          },
          "metadata": {}
        }
      ]
    },
    {
      "cell_type": "markdown",
      "source": [
        "# Split feature subsets"
      ],
      "metadata": {
        "id": "wbKUVETVj7M3"
      }
    },
    {
      "cell_type": "code",
      "source": [
        "basic_features     = ['acc_x','acc_y','acc_z','gyr_x','gyr_y','gyr_z']\n",
        "square_features    = ['acc_r','gyr_r']\n",
        "pca_features       = ['pca_1','pca_2' , 'pca_3']\n",
        "time_features      = [f for f in df_train.columns if '_temp_' in f ]\n",
        "freq_features = [f for f in df_train.columns if  ('_freq' in  f ) or ('_pse' in f)]\n",
        "cluster_features   = ['cluster']"
      ],
      "metadata": {
        "id": "kSTfWlGbkH0F"
      },
      "execution_count": 11,
      "outputs": []
    },
    {
      "cell_type": "code",
      "source": [
        "print('basic_features    ', len(basic_features) )\n",
        "print('square_features   ', len(square_features) )\n",
        "print('pca_features      ', len(pca_features) )\n",
        "print('time_features     ', len(time_features) )\n",
        "print('freq_features', len(freq_features) )\n",
        "print('cluster_features  ', len(cluster_features) )"
      ],
      "metadata": {
        "colab": {
          "base_uri": "https://localhost:8080/"
        },
        "id": "vJfWo71mnPRG",
        "outputId": "34c66369-5a94-47a7-ad1c-e771f2199ecb"
      },
      "execution_count": 12,
      "outputs": [
        {
          "output_type": "stream",
          "name": "stdout",
          "text": [
            "basic_features     6\n",
            "square_features    2\n",
            "pca_features       3\n",
            "time_features      16\n",
            "freq_features 88\n",
            "cluster_features   1\n"
          ]
        }
      ]
    },
    {
      "cell_type": "code",
      "source": [
        "feature_set_1 = list(set(basic_features))\n",
        "feature_set_2 = list(set( basic_features +  square_features +  pca_features ))\n",
        "feature_set_3 = list(set(feature_set_2 +time_features  ))\n",
        "feature_set_4 = list(set(feature_set_3 + freq_features + cluster_features  ))"
      ],
      "metadata": {
        "id": "YgLaGVhFpCN_"
      },
      "execution_count": 13,
      "outputs": []
    },
    {
      "cell_type": "markdown",
      "source": [
        "# Perform forward feature selection using simple decision tree"
      ],
      "metadata": {
        "id": "kO1eo6Botu7L"
      }
    },
    {
      "cell_type": "code",
      "source": [
        "learner =ClassificationAlgorithms()\n",
        "max_features = 10\n",
        "selected_features , ordered_features , ordered_score =  learner.forward_selection(\n",
        "    max_features, X_train , y_train\n",
        ")"
      ],
      "metadata": {
        "colab": {
          "base_uri": "https://localhost:8080/"
        },
        "id": "qu1OX0wvulj-",
        "outputId": "911d0061-6c56-41f1-9200-9a07cbd7f86c"
      },
      "execution_count": 14,
      "outputs": [
        {
          "output_type": "stream",
          "name": "stdout",
          "text": [
            "0\n",
            "1\n",
            "2\n",
            "3\n",
            "4\n",
            "5\n",
            "6\n",
            "7\n",
            "8\n",
            "9\n"
          ]
        }
      ]
    },
    {
      "cell_type": "code",
      "source": [
        "ordered_features"
      ],
      "metadata": {
        "colab": {
          "base_uri": "https://localhost:8080/"
        },
        "id": "LNhG4_8702Bm",
        "outputId": "9362014f-8eff-4f5b-cc53-b257b05da84d"
      },
      "execution_count": 15,
      "outputs": [
        {
          "output_type": "execute_result",
          "data": {
            "text/plain": [
              "['pca_1',\n",
              " 'acc_z_freq_0.0_Hz_ws_14',\n",
              " 'acc_x_freq_0.0_Hz_ws_14',\n",
              " 'gyr_r_freq_0.0_Hz_ws_14',\n",
              " 'gyr_r_freq_2.5_Hz_ws_14',\n",
              " 'pca_2',\n",
              " 'gyr_x_freq_1.071_Hz_ws_14',\n",
              " 'acc_r_temp_mean_ws_5',\n",
              " 'gyr_r',\n",
              " 'gyr_r_freq_0.714_Hz_ws_14']"
            ]
          },
          "metadata": {},
          "execution_count": 15
        }
      ]
    },
    {
      "cell_type": "code",
      "source": [
        "selected_features = ['acc_y_freq_0.0_Hz_ws_14',\n",
        " 'gyr_r_freq_0.0_Hz_ws_14',\n",
        " 'acc_z_freq_0.0_Hz_ws_14',\n",
        " 'acc_x_freq_0.0_Hz_ws_14',\n",
        " 'gyr_y_freq_weighted',\n",
        " 'gyr_x_freq_1.429_Hz_ws_14',\n",
        " 'gyr_z_freq_weighted',\n",
        " 'gyr_y_max_freq',\n",
        " 'acc_z_freq_2.5_Hz_ws_14',\n",
        " 'gyr_r_max_freq']"
      ],
      "metadata": {
        "id": "uK71u-2u06I_"
      },
      "execution_count": 16,
      "outputs": []
    },
    {
      "cell_type": "code",
      "source": [
        "plt.figure(figsize = (10,5))\n",
        "plt.plot(np.arange(1 , max_features +1 ,1),ordered_score)\n",
        "plt.xlabel(\"Number of features\")\n",
        "plt.ylabel(\"Accuracy\")\n",
        "plt.xticks(np.arange(1,max_features +1,1))\n",
        "plt.show()"
      ],
      "metadata": {
        "colab": {
          "base_uri": "https://localhost:8080/",
          "height": 494
        },
        "id": "8kmODxL4zz3j",
        "outputId": "bf3f6a0e-9ac4-48e8-c3ad-48553aaf6c77"
      },
      "execution_count": 17,
      "outputs": [
        {
          "output_type": "display_data",
          "data": {
            "text/plain": [
              "<Figure size 1000x500 with 1 Axes>"
            ],
            "image/png": "[encoded data removed]"
          },
          "metadata": {}
        }
      ]
    },
    {
      "cell_type": "code",
      "source": [
        "ordered_features"
      ],
      "metadata": {
        "colab": {
          "base_uri": "https://localhost:8080/"
        },
        "id": "dYI2U57_uCVM",
        "outputId": "ba05c18c-b0b3-4f0f-f9aa-271dc68d4ec2"
      },
      "execution_count": 18,
      "outputs": [
        {
          "output_type": "execute_result",
          "data": {
            "text/plain": [
              "['pca_1',\n",
              " 'acc_z_freq_0.0_Hz_ws_14',\n",
              " 'acc_x_freq_0.0_Hz_ws_14',\n",
              " 'gyr_r_freq_0.0_Hz_ws_14',\n",
              " 'gyr_r_freq_2.5_Hz_ws_14',\n",
              " 'pca_2',\n",
              " 'gyr_x_freq_1.071_Hz_ws_14',\n",
              " 'acc_r_temp_mean_ws_5',\n",
              " 'gyr_r',\n",
              " 'gyr_r_freq_0.714_Hz_ws_14']"
            ]
          },
          "metadata": {},
          "execution_count": 18
        }
      ]
    },
    {
      "cell_type": "markdown",
      "source": [
        "# Grid search for best hyperparameters and model selection"
      ],
      "metadata": {
        "id": "--wDl53N1rqM"
      }
    },
    {
      "cell_type": "code",
      "source": [
        "possible_feature_sets = [\n",
        "        feature_set_1,\n",
        "        feature_set_2,\n",
        "        feature_set_3,\n",
        "        feature_set_4,\n",
        "        selected_features\n",
        "      ]\n",
        "feature_names =[\n",
        "'Feature Set 1',\n",
        "'Feature Set 2',\n",
        "'Feature Set 3',\n",
        "'Feature Set 4',\n",
        "'Selected Features'\n",
        "]"
      ],
      "metadata": {
        "id": "SDYZbZqf1s5z"
      },
      "execution_count": 19,
      "outputs": []
    },
    {
      "cell_type": "code",
      "source": [
        "iterations = 1\n",
        "score_df = pd.DataFrame()\n",
        "\n",
        "for i, f in zip(range(len(possible_feature_sets)), feature_names):\n",
        "    print(\"Feature set:\", i)\n",
        "    selected_train_X = X_train[possible_feature_sets[i]]\n",
        "    selected_test_X = X_test[possible_feature_sets[i]]\n",
        "\n",
        "    # First run non deterministic classifiers to average their score.\n",
        "    performance_test_nn = 0\n",
        "    performance_test_rf = 0\n",
        "\n",
        "    for it in range(0, iterations):\n",
        "        print(\"\\tTraining neural network,\", it)\n",
        "        (\n",
        "            class_train_y,\n",
        "            class_test_y,\n",
        "            class_train_prob_y,\n",
        "            class_test_prob_y,\n",
        "        ) = learner.feedforward_neural_network(\n",
        "            selected_train_X,\n",
        "            y_train,\n",
        "            selected_test_X,\n",
        "            gridsearch=False,\n",
        "        )\n",
        "        performance_test_nn += accuracy_score(y_test, class_test_y)\n",
        "\n",
        "        print(\"\\tTraining random forest,\", it)\n",
        "        (\n",
        "            class_train_y,\n",
        "            class_test_y,\n",
        "            class_train_prob_y,\n",
        "            class_test_prob_y,\n",
        "        ) = learner.random_forest(\n",
        "            selected_train_X, y_train, selected_test_X, gridsearch=True\n",
        "        )\n",
        "        performance_test_rf += accuracy_score(y_test, class_test_y)\n",
        "\n",
        "    performance_test_nn = performance_test_nn / iterations\n",
        "    performance_test_rf = performance_test_rf / iterations\n",
        "\n",
        "    # And we run our deterministic classifiers:\n",
        "    print(\"\\tTraining KNN\")\n",
        "    (\n",
        "        class_train_y,\n",
        "        class_test_y,\n",
        "        class_train_prob_y,\n",
        "        class_test_prob_y,\n",
        "    ) = learner.k_nearest_neighbor(\n",
        "        selected_train_X, y_train, selected_test_X, gridsearch=True\n",
        "    )\n",
        "    performance_test_knn = accuracy_score(y_test, class_test_y)\n",
        "\n",
        "    print(\"\\tTraining decision tree\")\n",
        "    (\n",
        "        class_train_y,\n",
        "        class_test_y,\n",
        "        class_train_prob_y,\n",
        "        class_test_prob_y,\n",
        "    ) = learner.decision_tree(\n",
        "        selected_train_X, y_train, selected_test_X, gridsearch=True\n",
        "    )\n",
        "    performance_test_dt = accuracy_score(y_test, class_test_y)\n",
        "\n",
        "    print(\"\\tTraining naive bayes\")\n",
        "    (\n",
        "        class_train_y,\n",
        "        class_test_y,\n",
        "        class_train_prob_y,\n",
        "        class_test_prob_y,\n",
        "    ) = learner.naive_bayes(selected_train_X, y_train, selected_test_X)\n",
        "\n",
        "    performance_test_nb = accuracy_score(y_test, class_test_y)\n",
        "\n",
        "    # Save results to dataframe\n",
        "    models = [\"NN\", \"RF\", \"KNN\", \"DT\", \"NB\"]\n",
        "    new_scores = pd.DataFrame(\n",
        "        {\n",
        "            \"model\": models,\n",
        "            \"feature_set\": f,\n",
        "            \"accuracy\": [\n",
        "                performance_test_nn,\n",
        "                performance_test_rf,\n",
        "                performance_test_knn,\n",
        "                performance_test_dt,\n",
        "                performance_test_nb,\n",
        "            ],\n",
        "        }\n",
        "    )\n",
        "    score_df = pd.concat([score_df, new_scores])"
      ],
      "metadata": {
        "colab": {
          "base_uri": "https://localhost:8080/"
        },
        "id": "QmJ6WxzZ5rDD",
        "outputId": "bbb2c0b9-3315-4d7d-cc49-ac146a11c13b"
      },
      "execution_count": 20,
      "outputs": [
        {
          "output_type": "stream",
          "name": "stdout",
          "text": [
            "Feature set: 0\n",
            "\tTraining neural network, 0\n",
            "\tTraining random forest, 0\n",
            "\tTraining KNN\n",
            "\tTraining decision tree\n",
            "\tTraining naive bayes\n",
            "Feature set: 1\n",
            "\tTraining neural network, 0\n",
            "\tTraining random forest, 0\n",
            "\tTraining KNN\n",
            "\tTraining decision tree\n",
            "\tTraining naive bayes\n",
            "Feature set: 2\n",
            "\tTraining neural network, 0\n",
            "\tTraining random forest, 0\n",
            "\tTraining KNN\n",
            "\tTraining decision tree\n",
            "\tTraining naive bayes\n",
            "Feature set: 3\n",
            "\tTraining neural network, 0\n",
            "\tTraining random forest, 0\n",
            "\tTraining KNN\n",
            "\tTraining decision tree\n",
            "\tTraining naive bayes\n",
            "Feature set: 4\n",
            "\tTraining neural network, 0\n",
            "\tTraining random forest, 0\n",
            "\tTraining KNN\n",
            "\tTraining decision tree\n",
            "\tTraining naive bayes\n"
          ]
        }
      ]
    },
    {
      "cell_type": "markdown",
      "source": [
        "# Create a grouped bar plot to compare the results"
      ],
      "metadata": {
        "id": "9ZqP6e5s-HLe"
      }
    },
    {
      "cell_type": "code",
      "source": [
        "score_df"
      ],
      "metadata": {
        "colab": {
          "base_uri": "https://localhost:8080/",
          "height": 833
        },
        "id": "XvRuKIUr_v5c",
        "outputId": "9dd5b5f3-610c-4177-cb96-7435a41070d3"
      },
      "execution_count": 21,
      "outputs": [
        {
          "output_type": "execute_result",
          "data": {
            "text/plain": [
              "  model        feature_set  accuracy\n",
              "0    NN      Feature Set 1  0.932782\n",
              "1    RF      Feature Set 1  0.956567\n",
              "2   KNN      Feature Set 1  0.803516\n",
              "3    DT      Feature Set 1  0.934850\n",
              "4    NB      Feature Set 1  0.854188\n",
              "0    NN      Feature Set 2  0.934850\n",
              "1    RF      Feature Set 2  0.959669\n",
              "2   KNN      Feature Set 2  0.800414\n",
              "3    DT      Feature Set 2  0.931748\n",
              "4    NB      Feature Set 2  0.859359\n",
              "0    NN      Feature Set 3  0.984488\n",
              "1    RF      Feature Set 3  0.982420\n",
              "2   KNN      Feature Set 3  0.916236\n",
              "3    DT      Feature Set 3  0.955533\n",
              "4    NB      Feature Set 3  0.936918\n",
              "0    NN      Feature Set 4  0.995863\n",
              "1    RF      Feature Set 4  0.994829\n",
              "2   KNN      Feature Set 4  0.968976\n",
              "3    DT      Feature Set 4  0.989659\n",
              "4    NB      Feature Set 4  0.950362\n",
              "0    NN  Selected Features  0.953464\n",
              "1    RF  Selected Features  0.990693\n",
              "2   KNN  Selected Features  0.893485\n",
              "3    DT  Selected Features  0.978283\n",
              "4    NB  Selected Features  0.866598"
            ],
            "text/html": [
              "\n",
              "  <div id=\"df-62ae930b-52a4-4a71-a267-7dcd543fb86e\" class=\"colab-df-container\">\n",
              "    <div>\n",
              "<style scoped>\n",
              "    .dataframe tbody tr th:only-of-type {\n",
              "        vertical-align: middle;\n",
              "    }\n",
              "\n",
              "    .dataframe tbody tr th {\n",
              "        vertical-align: top;\n",
              "    }\n",
              "\n",
              "    .dataframe thead th {\n",
              "        text-align: right;\n",
              "    }\n",
              "</style>\n",
              "<table border=\"1\" class=\"dataframe\">\n",
              "  <thead>\n",
              "    <tr style=\"text-align: right;\">\n",
              "      <th></th>\n",
              "      <th>model</th>\n",
              "      <th>feature_set</th>\n",
              "      <th>accuracy</th>\n",
              "    </tr>\n",
              "  </thead>\n",
              "  <tbody>\n",
              "    <tr>\n",
              "      <th>0</th>\n",
              "      <td>NN</td>\n",
              "      <td>Feature Set 1</td>\n",
              "      <td>0.932782</td>\n",
              "    </tr>\n",
              "    <tr>\n",
              "      <th>1</th>\n",
              "      <td>RF</td>\n",
              "      <td>Feature Set 1</td>\n",
              "      <td>0.956567</td>\n",
              "    </tr>\n",
              "    <tr>\n",
              "      <th>2</th>\n",
              "      <td>KNN</td>\n",
              "      <td>Feature Set 1</td>\n",
              "      <td>0.803516</td>\n",
              "    </tr>\n",
              "    <tr>\n",
              "      <th>3</th>\n",
              "      <td>DT</td>\n",
              "      <td>Feature Set 1</td>\n",
              "      <td>0.934850</td>\n",
              "    </tr>\n",
              "    <tr>\n",
              "      <th>4</th>\n",
              "      <td>NB</td>\n",
              "      <td>Feature Set 1</td>\n",
              "      <td>0.854188</td>\n",
              "    </tr>\n",
              "    <tr>\n",
              "      <th>0</th>\n",
              "      <td>NN</td>\n",
              "      <td>Feature Set 2</td>\n",
              "      <td>0.934850</td>\n",
              "    </tr>\n",
              "    <tr>\n",
              "      <th>1</th>\n",
              "      <td>RF</td>\n",
              "      <td>Feature Set 2</td>\n",
              "      <td>0.959669</td>\n",
              "    </tr>\n",
              "    <tr>\n",
              "      <th>2</th>\n",
              "      <td>KNN</td>\n",
              "      <td>Feature Set 2</td>\n",
              "      <td>0.800414</td>\n",
              "    </tr>\n",
              "    <tr>\n",
              "      <th>3</th>\n",
              "      <td>DT</td>\n",
              "      <td>Feature Set 2</td>\n",
              "      <td>0.931748</td>\n",
              "    </tr>\n",
              "    <tr>\n",
              "      <th>4</th>\n",
              "      <td>NB</td>\n",
              "      <td>Feature Set 2</td>\n",
              "      <td>0.859359</td>\n",
              "    </tr>\n",
              "    <tr>\n",
              "      <th>0</th>\n",
              "      <td>NN</td>\n",
              "      <td>Feature Set 3</td>\n",
              "      <td>0.984488</td>\n",
              "    </tr>\n",
              "    <tr>\n",
              "      <th>1</th>\n",
              "      <td>RF</td>\n",
              "      <td>Feature Set 3</td>\n",
              "      <td>0.982420</td>\n",
              "    </tr>\n",
              "    <tr>\n",
              "      <th>2</th>\n",
              "      <td>KNN</td>\n",
              "      <td>Feature Set 3</td>\n",
              "      <td>0.916236</td>\n",
              "    </tr>\n",
              "    <tr>\n",
              "      <th>3</th>\n",
              "      <td>DT</td>\n",
              "      <td>Feature Set 3</td>\n",
              "      <td>0.955533</td>\n",
              "    </tr>\n",
              "    <tr>\n",
              "      <th>4</th>\n",
              "      <td>NB</td>\n",
              "      <td>Feature Set 3</td>\n",
              "      <td>0.936918</td>\n",
              "    </tr>\n",
              "    <tr>\n",
              "      <th>0</th>\n",
              "      <td>NN</td>\n",
              "      <td>Feature Set 4</td>\n",
              "      <td>0.995863</td>\n",
              "    </tr>\n",
              "    <tr>\n",
              "      <th>1</th>\n",
              "      <td>RF</td>\n",
              "      <td>Feature Set 4</td>\n",
              "      <td>0.994829</td>\n",
              "    </tr>\n",
              "    <tr>\n",
              "      <th>2</th>\n",
              "      <td>KNN</td>\n",
              "      <td>Feature Set 4</td>\n",
              "      <td>0.968976</td>\n",
              "    </tr>\n",
              "    <tr>\n",
              "      <th>3</th>\n",
              "      <td>DT</td>\n",
              "      <td>Feature Set 4</td>\n",
              "      <td>0.989659</td>\n",
              "    </tr>\n",
              "    <tr>\n",
              "      <th>4</th>\n",
              "      <td>NB</td>\n",
              "      <td>Feature Set 4</td>\n",
              "      <td>0.950362</td>\n",
              "    </tr>\n",
              "    <tr>\n",
              "      <th>0</th>\n",
              "      <td>NN</td>\n",
              "      <td>Selected Features</td>\n",
              "      <td>0.953464</td>\n",
              "    </tr>\n",
              "    <tr>\n",
              "      <th>1</th>\n",
              "      <td>RF</td>\n",
              "      <td>Selected Features</td>\n",
              "      <td>0.990693</td>\n",
              "    </tr>\n",
              "    <tr>\n",
              "      <th>2</th>\n",
              "      <td>KNN</td>\n",
              "      <td>Selected Features</td>\n",
              "      <td>0.893485</td>\n",
              "    </tr>\n",
              "    <tr>\n",
              "      <th>3</th>\n",
              "      <td>DT</td>\n",
              "      <td>Selected Features</td>\n",
              "      <td>0.978283</td>\n",
              "    </tr>\n",
              "    <tr>\n",
              "      <th>4</th>\n",
              "      <td>NB</td>\n",
              "      <td>Selected Features</td>\n",
              "      <td>0.866598</td>\n",
              "    </tr>\n",
              "  </tbody>\n",
              "</table>\n",
              "</div>\n",
              "    <div class=\"colab-df-buttons\">\n",
              "\n",
              "  <div class=\"colab-df-container\">\n",
              "    <button class=\"colab-df-convert\" onclick=\"convertToInteractive('df-62ae930b-52a4-4a71-a267-7dcd543fb86e')\"\n",
              "            title=\"Convert this dataframe to an interactive table.\"\n",
              "            style=\"display:none;\">\n",
              "\n",
              "  <svg xmlns=\"http://www.w3.org/2000/svg\" height=\"24px\" viewBox=\"0 -960 960 960\">\n",
              "    <path d=\"M120-120v-720h720v720H120Zm60-500h600v-160H180v160Zm220 220h160v-160H400v160Zm0 220h160v-160H400v160ZM180-400h160v-160H180v160Zm440 0h160v-160H620v160ZM180-180h160v-160H180v160Zm440 0h160v-160H620v160Z\"/>\n",
              "  </svg>\n",
              "    </button>\n",
              "\n",
              "  <style>\n",
              "    .colab-df-container {\n",
              "      display:flex;\n",
              "      gap: 12px;\n",
              "    }\n",
              "\n",
              "    .colab-df-convert {\n",
              "      background-color: #E8F0FE;\n",
              "      border: none;\n",
              "      border-radius: 50%;\n",
              "      cursor: pointer;\n",
              "      display: none;\n",
              "      fill: #1967D2;\n",
              "      height: 32px;\n",
              "      padding: 0 0 0 0;\n",
              "      width: 32px;\n",
              "    }\n",
              "\n",
              "    .colab-df-convert:hover {\n",
              "      background-color: #E2EBFA;\n",
              "      box-shadow: 0px 1px 2px rgba(60, 64, 67, 0.3), 0px 1px 3px 1px rgba(60, 64, 67, 0.15);\n",
              "      fill: #174EA6;\n",
              "    }\n",
              "\n",
              "    .colab-df-buttons div {\n",
              "      margin-bottom: 4px;\n",
              "    }\n",
              "\n",
              "    [theme=dark] .colab-df-convert {\n",
              "      background-color: #3B4455;\n",
              "      fill: #D2E3FC;\n",
              "    }\n",
              "\n",
              "    [theme=dark] .colab-df-convert:hover {\n",
              "      background-color: #434B5C;\n",
              "      box-shadow: 0px 1px 3px 1px rgba(0, 0, 0, 0.15);\n",
              "      filter: drop-shadow(0px 1px 2px rgba(0, 0, 0, 0.3));\n",
              "      fill: #FFFFFF;\n",
              "    }\n",
              "  </style>\n",
              "\n",
              "    <script>\n",
              "      const buttonEl =\n",
              "        document.querySelector('#df-62ae930b-52a4-4a71-a267-7dcd543fb86e button.colab-df-convert');\n",
              "      buttonEl.style.display =\n",
              "        google.colab.kernel.accessAllowed ? 'block' : 'none';\n",
              "\n",
              "      async function convertToInteractive(key) {\n",
              "        const element = document.querySelector('#df-62ae930b-52a4-4a71-a267-7dcd543fb86e');\n",
              "        const dataTable =\n",
              "          await google.colab.kernel.invokeFunction('convertToInteractive',\n",
              "                                                    [key], {});\n",
              "        if (!dataTable) return;\n",
              "\n",
              "        const docLinkHtml = 'Like what you see? Visit the ' +\n",
              "          '<a target=\"_blank\" href=https://colab.research.google.com/notebooks/data_table.ipynb>data table notebook</a>'\n",
              "          + ' to learn more about interactive tables.';\n",
              "        element.innerHTML = '';\n",
              "        dataTable['output_type'] = 'display_data';\n",
              "        await google.colab.output.renderOutput(dataTable, element);\n",
              "        const docLink = document.createElement('div');\n",
              "        docLink.innerHTML = docLinkHtml;\n",
              "        element.appendChild(docLink);\n",
              "      }\n",
              "    </script>\n",
              "  </div>\n",
              "\n",
              "\n",
              "<div id=\"df-9d93fb68-fe65-4f6b-9adb-3ef0bbcc99ab\">\n",
              "  <button class=\"colab-df-quickchart\" onclick=\"quickchart('df-9d93fb68-fe65-4f6b-9adb-3ef0bbcc99ab')\"\n",
              "            title=\"Suggest charts\"\n",
              "            style=\"display:none;\">\n",
              "\n",
              "<svg xmlns=\"http://www.w3.org/2000/svg\" height=\"24px\"viewBox=\"0 0 24 24\"\n",
              "     width=\"24px\">\n",
              "    <g>\n",
              "        <path d=\"M19 3H5c-1.1 0-2 .9-2 2v14c0 1.1.9 2 2 2h14c1.1 0 2-.9 2-2V5c0-1.1-.9-2-2-2zM9 17H7v-7h2v7zm4 0h-2V7h2v10zm4 0h-2v-4h2v4z\"/>\n",
              "    </g>\n",
              "</svg>\n",
              "  </button>\n",
              "\n",
              "<style>\n",
              "  .colab-df-quickchart {\n",
              "      --bg-color: #E8F0FE;\n",
              "      --fill-color: #1967D2;\n",
              "      --hover-bg-color: #E2EBFA;\n",
              "      --hover-fill-color: #174EA6;\n",
              "      --disabled-fill-color: #AAA;\n",
              "      --disabled-bg-color: #DDD;\n",
              "  }\n",
              "\n",
              "  [theme=dark] .colab-df-quickchart {\n",
              "      --bg-color: #3B4455;\n",
              "      --fill-color: #D2E3FC;\n",
              "      --hover-bg-color: #434B5C;\n",
              "      --hover-fill-color: #FFFFFF;\n",
              "      --disabled-bg-color: #3B4455;\n",
              "      --disabled-fill-color: #666;\n",
              "  }\n",
              "\n",
              "  .colab-df-quickchart {\n",
              "    background-color: var(--bg-color);\n",
              "    border: none;\n",
              "    border-radius: 50%;\n",
              "    cursor: pointer;\n",
              "    display: none;\n",
              "    fill: var(--fill-color);\n",
              "    height: 32px;\n",
              "    padding: 0;\n",
              "    width: 32px;\n",
              "  }\n",
              "\n",
              "  .colab-df-quickchart:hover {\n",
              "    background-color: var(--hover-bg-color);\n",
              "    box-shadow: 0 1px 2px rgba(60, 64, 67, 0.3), 0 1px 3px 1px rgba(60, 64, 67, 0.15);\n",
              "    fill: var(--button-hover-fill-color);\n",
              "  }\n",
              "\n",
              "  .colab-df-quickchart-complete:disabled,\n",
              "  .colab-df-quickchart-complete:disabled:hover {\n",
              "    background-color: var(--disabled-bg-color);\n",
              "    fill: var(--disabled-fill-color);\n",
              "    box-shadow: none;\n",
              "  }\n",
              "\n",
              "  .colab-df-spinner {\n",
              "    border: 2px solid var(--fill-color);\n",
              "    border-color: transparent;\n",
              "    border-bottom-color: var(--fill-color);\n",
              "    animation:\n",
              "      spin 1s steps(1) infinite;\n",
              "  }\n",
              "\n",
              "  @keyframes spin {\n",
              "    0% {\n",
              "      border-color: transparent;\n",
              "      border-bottom-color: var(--fill-color);\n",
              "      border-left-color: var(--fill-color);\n",
              "    }\n",
              "    20% {\n",
              "      border-color: transparent;\n",
              "      border-left-color: var(--fill-color);\n",
              "      border-top-color: var(--fill-color);\n",
              "    }\n",
              "    30% {\n",
              "      border-color: transparent;\n",
              "      border-left-color: var(--fill-color);\n",
              "      border-top-color: var(--fill-color);\n",
              "      border-right-color: var(--fill-color);\n",
              "    }\n",
              "    40% {\n",
              "      border-color: transparent;\n",
              "      border-right-color: var(--fill-color);\n",
              "      border-top-color: var(--fill-color);\n",
              "    }\n",
              "    60% {\n",
              "      border-color: transparent;\n",
              "      border-right-color: var(--fill-color);\n",
              "    }\n",
              "    80% {\n",
              "      border-color: transparent;\n",
              "      border-right-color: var(--fill-color);\n",
              "      border-bottom-color: var(--fill-color);\n",
              "    }\n",
              "    90% {\n",
              "      border-color: transparent;\n",
              "      border-bottom-color: var(--fill-color);\n",
              "    }\n",
              "  }\n",
              "</style>\n",
              "\n",
              "  <script>\n",
              "    async function quickchart(key) {\n",
              "      const quickchartButtonEl =\n",
              "        document.querySelector('#' + key + ' button');\n",
              "      quickchartButtonEl.disabled = true;  // To prevent multiple clicks.\n",
              "      quickchartButtonEl.classList.add('colab-df-spinner');\n",
              "      try {\n",
              "        const charts = await google.colab.kernel.invokeFunction(\n",
              "            'suggestCharts', [key], {});\n",
              "      } catch (error) {\n",
              "        console.error('Error during call to suggestCharts:', error);\n",
              "      }\n",
              "      quickchartButtonEl.classList.remove('colab-df-spinner');\n",
              "      quickchartButtonEl.classList.add('colab-df-quickchart-complete');\n",
              "    }\n",
              "    (() => {\n",
              "      let quickchartButtonEl =\n",
              "        document.querySelector('#df-9d93fb68-fe65-4f6b-9adb-3ef0bbcc99ab button');\n",
              "      quickchartButtonEl.style.display =\n",
              "        google.colab.kernel.accessAllowed ? 'block' : 'none';\n",
              "    })();\n",
              "  </script>\n",
              "</div>\n",
              "\n",
              "  <div id=\"id_68bc0def-5436-44e2-b363-c94442dc0956\">\n",
              "    <style>\n",
              "      .colab-df-generate {\n",
              "        background-color: #E8F0FE;\n",
              "        border: none;\n",
              "        border-radius: 50%;\n",
              "        cursor: pointer;\n",
              "        display: none;\n",
              "        fill: #1967D2;\n",
              "        height: 32px;\n",
              "        padding: 0 0 0 0;\n",
              "        width: 32px;\n",
              "      }\n",
              "\n",
              "      .colab-df-generate:hover {\n",
              "        background-color: #E2EBFA;\n",
              "        box-shadow: 0px 1px 2px rgba(60, 64, 67, 0.3), 0px 1px 3px 1px rgba(60, 64, 67, 0.15);\n",
              "        fill: #174EA6;\n",
              "      }\n",
              "\n",
              "      [theme=dark] .colab-df-generate {\n",
              "        background-color: #3B4455;\n",
              "        fill: #D2E3FC;\n",
              "      }\n",
              "\n",
              "      [theme=dark] .colab-df-generate:hover {\n",
              "        background-color: #434B5C;\n",
              "        box-shadow: 0px 1px 3px 1px rgba(0, 0, 0, 0.15);\n",
              "        filter: drop-shadow(0px 1px 2px rgba(0, 0, 0, 0.3));\n",
              "        fill: #FFFFFF;\n",
              "      }\n",
              "    </style>\n",
              "    <button class=\"colab-df-generate\" onclick=\"generateWithVariable('score_df')\"\n",
              "            title=\"Generate code using this dataframe.\"\n",
              "            style=\"display:none;\">\n",
              "\n",
              "  <svg xmlns=\"http://www.w3.org/2000/svg\" height=\"24px\"viewBox=\"0 0 24 24\"\n",
              "       width=\"24px\">\n",
              "    <path d=\"M7,19H8.4L18.45,9,17,7.55,7,17.6ZM5,21V16.75L18.45,3.32a2,2,0,0,1,2.83,0l1.4,1.43a1.91,1.91,0,0,1,.58,1.4,1.91,1.91,0,0,1-.58,1.4L9.25,21ZM18.45,9,17,7.55Zm-12,3A5.31,5.31,0,0,0,4.9,8.1,5.31,5.31,0,0,0,1,6.5,5.31,5.31,0,0,0,4.9,4.9,5.31,5.31,0,0,0,6.5,1,5.31,5.31,0,0,0,8.1,4.9,5.31,5.31,0,0,0,12,6.5,5.46,5.46,0,0,0,6.5,12Z\"/>\n",
              "  </svg>\n",
              "    </button>\n",
              "    <script>\n",
              "      (() => {\n",
              "      const buttonEl =\n",
              "        document.querySelector('#id_68bc0def-5436-44e2-b363-c94442dc0956 button.colab-df-generate');\n",
              "      buttonEl.style.display =\n",
              "        google.colab.kernel.accessAllowed ? 'block' : 'none';\n",
              "\n",
              "      buttonEl.onclick = () => {\n",
              "        google.colab.notebook.generateWithVariable('score_df');\n",
              "      }\n",
              "      })();\n",
              "    </script>\n",
              "  </div>\n",
              "\n",
              "    </div>\n",
              "  </div>\n"
            ],
            "application/vnd.google.colaboratory.intrinsic+json": {
              "type": "dataframe",
              "variable_name": "score_df",
              "summary": "{\n  \"name\": \"score_df\",\n  \"rows\": 25,\n  \"fields\": [\n    {\n      \"column\": \"model\",\n      \"properties\": {\n        \"dtype\": \"category\",\n        \"num_unique_values\": 5,\n        \"samples\": [\n          \"RF\",\n          \"NB\",\n          \"KNN\"\n        ],\n        \"semantic_type\": \"\",\n        \"description\": \"\"\n      }\n    },\n    {\n      \"column\": \"feature_set\",\n      \"properties\": {\n        \"dtype\": \"category\",\n        \"num_unique_values\": 5,\n        \"samples\": [\n          \"Feature Set 2\",\n          \"Selected Features\",\n          \"Feature Set 3\"\n        ],\n        \"semantic_type\": \"\",\n        \"description\": \"\"\n      }\n    },\n    {\n      \"column\": \"accuracy\",\n      \"properties\": {\n        \"dtype\": \"number\",\n        \"std\": 0.05682621284714314,\n        \"min\": 0.8004136504653567,\n        \"max\": 0.9958634953464323,\n        \"num_unique_values\": 24,\n        \"samples\": [\n          0.859358841778697,\n          0.9689762150982419,\n          0.9327817993795243\n        ],\n        \"semantic_type\": \"\",\n        \"description\": \"\"\n      }\n    }\n  ]\n}"
            }
          },
          "metadata": {},
          "execution_count": 21
        }
      ]
    },
    {
      "cell_type": "code",
      "source": [
        "score_df.sort_values(by= 'accuracy', ascending = False)\n",
        "plt.figure(figsize = (10,7))\n",
        "sns.barplot(x = 'model',y = 'accuracy',hue = 'feature_set', data = score_df)\n",
        "plt.xlabel('model')\n",
        "plt.ylabel('Accuracy')\n",
        "plt.ylim(0.7,1)\n",
        "plt.legend(loc = 'lower right')\n",
        "plt.show()\n"
      ],
      "metadata": {
        "colab": {
          "base_uri": "https://localhost:8080/",
          "height": 663
        },
        "id": "3x-5JQaU-JxX",
        "outputId": "0cc93fe4-8cad-4597-f4cd-6aaecbbe1134"
      },
      "execution_count": 22,
      "outputs": [
        {
          "output_type": "display_data",
          "data": {
            "text/plain": [
              "<Figure size 1000x700 with 1 Axes>"
            ],
            "image/png": "[encoded data removed]"
          },
          "metadata": {}
        }
      ]
    },
    {
      "cell_type": "markdown",
      "source": [
        "# Select best model and evaluate results"
      ],
      "metadata": {
        "id": "CtIBM_g1DjlY"
      }
    },
    {
      "cell_type": "code",
      "source": [
        "(\n",
        "    class_train_y,\n",
        "    class_test_y,\n",
        "    class_train_prob_y,\n",
        "    class_test_prob_y,\n",
        ") = learner.random_forest(\n",
        "     X_train[feature_set_4], y_train, X_test[feature_set_4], gridsearch=True\n",
        " )\n"
      ],
      "metadata": {
        "id": "xHS19cRvDgiE"
      },
      "execution_count": 23,
      "outputs": []
    },
    {
      "cell_type": "code",
      "source": [
        "accuracy = accuracy_score(y_test ,class_test_y)\n",
        "accuracy"
      ],
      "metadata": {
        "colab": {
          "base_uri": "https://localhost:8080/"
        },
        "id": "CjVIXDmsE0tK",
        "outputId": "23367433-3783-489e-d3f7-0272fef2244f"
      },
      "execution_count": 24,
      "outputs": [
        {
          "output_type": "execute_result",
          "data": {
            "text/plain": [
              "0.9927611168562565"
            ]
          },
          "metadata": {},
          "execution_count": 24
        }
      ]
    },
    {
      "cell_type": "code",
      "source": [
        "classes = class_test_prob_y.columns\n",
        "cm = confusion_matrix(y_test, class_test_y,labels = classes)\n",
        "cm"
      ],
      "metadata": {
        "colab": {
          "base_uri": "https://localhost:8080/"
        },
        "id": "pwLkImKkGnI7",
        "outputId": "f7939f85-8fd9-419c-f369-cdeefb99e948"
      },
      "execution_count": 25,
      "outputs": [
        {
          "output_type": "execute_result",
          "data": {
            "text/plain": [
              "array([[173,   0,   2,   0,   0,   0],\n",
              "       [  0, 172,   0,   0,   0,   0],\n",
              "       [  1,   0, 174,   0,   0,   0],\n",
              "       [  0,   0,   0, 128,   0,   0],\n",
              "       [  0,   4,   0,   0, 138,   0],\n",
              "       [  0,   0,   0,   0,   0, 175]])"
            ]
          },
          "metadata": {},
          "execution_count": 25
        }
      ]
    },
    {
      "cell_type": "code",
      "source": [
        "# create confusion matrix for cm\n",
        "plt.figure(figsize=(10, 10))\n",
        "plt.imshow(cm, interpolation=\"nearest\", cmap=plt.cm.Blues)\n",
        "plt.title(\"Confusion matrix\")\n",
        "plt.colorbar()\n",
        "tick_marks = np.arange(len(classes))\n",
        "plt.xticks(tick_marks, classes, rotation=45)\n",
        "plt.yticks(tick_marks, classes)\n",
        "\n",
        "thresh = cm.max() / 2.0\n",
        "for i, j in itertools.product(range(cm.shape[0]), range(cm.shape[1])):\n",
        "    plt.text(\n",
        "        j,\n",
        "        i,\n",
        "        format(cm[i, j]),\n",
        "        horizontalalignment=\"center\",\n",
        "        color=\"white\" if cm[i, j] > thresh else \"black\",\n",
        "    )\n",
        "plt.ylabel(\"True label\")\n",
        "plt.xlabel(\"Predicted label\")\n",
        "plt.grid(False)\n",
        "plt.show()"
      ],
      "metadata": {
        "colab": {
          "base_uri": "https://localhost:8080/",
          "height": 879
        },
        "id": "e-UYXPZYGxzq",
        "outputId": "774f211b-60c7-42a1-846b-93212b9b214b"
      },
      "execution_count": 26,
      "outputs": [
        {
          "output_type": "display_data",
          "data": {
            "text/plain": [
              "<Figure size 1000x1000 with 2 Axes>"
            ],
            "image/png": "[encoded data removed]"
          },
          "metadata": {}
        }
      ]
    },
    {
      "cell_type": "markdown",
      "source": [
        "# Select train and test data based on participant\n"
      ],
      "metadata": {
        "id": "2CnDIs38niI7"
      }
    },
    {
      "cell_type": "code",
      "source": [
        "participant_df = df.drop(['set','category'],axis = 1)\n",
        "\n",
        "X_train = participant_df[participant_df['participant']!='A'].drop('label',axis = 1)\n",
        "y_train = participant_df[participant_df['participant']!='A']['label']\n",
        "\n",
        "X_test = participant_df[participant_df['participant']=='A'].drop('label',axis = 1)\n",
        "y_test= participant_df[participant_df['participant']=='A']['label']\n",
        "\n",
        "X_train = X_train.drop(['participant'],axis = 1)\n",
        "X_test = X_test.drop(['participant'],axis = 1)\n",
        "\n",
        "fig , ax = plt.subplots(figsize = (10,5))\n",
        "df_train['label'].value_counts().plot(\n",
        "    kind = 'bar' , ax = ax  , color = 'lightblue' , label = 'Total'\n",
        ")\n",
        "y_train.value_counts().plot(kind = 'bar',ax= ax , color = 'dodgerblue',label = 'Train')\n",
        "y_test.value_counts().plot(kind = 'bar',ax= ax , color = 'royalblue',label = 'Test')\n",
        "plt.legend()\n",
        "plt.show()\n",
        "\n"
      ],
      "metadata": {
        "colab": {
          "base_uri": "https://localhost:8080/",
          "height": 535
        },
        "id": "-Me7QAPbnZ1y",
        "outputId": "f10d8da0-d253-4642-ae4e-00dfd0ed4afb"
      },
      "execution_count": 36,
      "outputs": [
        {
          "output_type": "display_data",
          "data": {
            "text/plain": [
              "<Figure size 1000x500 with 1 Axes>"
            ],
            "image/png": "[encoded data removed]"
          },
          "metadata": {}
        }
      ]
    },
    {
      "cell_type": "markdown",
      "source": [
        "# Try a simpler model with the selected features"
      ],
      "metadata": {
        "id": "dcdFRcMDzPt6"
      }
    },
    {
      "cell_type": "code",
      "source": [
        "(\n",
        "    class_train_y,\n",
        "    class_test_y,\n",
        "    class_train_prob_y,\n",
        "    class_test_prob_y,\n",
        ") = learner.feedforward_neural_network(\n",
        "     X_train[feature_set_4], y_train, X_test[feature_set_4], gridsearch=False\n",
        " )\n",
        "\n",
        "\n",
        "accuracy = accuracy_score(y_test ,class_test_y)\n",
        "print('accuracy score  ' , accuracy)\n",
        "\n",
        "\n",
        "classes = class_test_prob_y.columns\n",
        "cm = confusion_matrix(y_test, class_test_y,labels = classes)\n",
        "cm\n",
        "\n",
        "\n",
        "# create confusion matrix for cm\n",
        "plt.figure(figsize=(10, 10))\n",
        "plt.imshow(cm, interpolation=\"nearest\", cmap=plt.cm.Blues)\n",
        "plt.title(\"Confusion matrix\")\n",
        "plt.colorbar()\n",
        "tick_marks = np.arange(len(classes))\n",
        "plt.xticks(tick_marks, classes, rotation=45)\n",
        "plt.yticks(tick_marks, classes)\n",
        "\n",
        "thresh = cm.max() / 2.0\n",
        "for i, j in itertools.product(range(cm.shape[0]), range(cm.shape[1])):\n",
        "    plt.text(\n",
        "        j,\n",
        "        i,\n",
        "        format(cm[i, j]),\n",
        "        horizontalalignment=\"center\",\n",
        "        color=\"white\" if cm[i, j] > thresh else \"black\",\n",
        "    )\n",
        "plt.ylabel(\"True label\")\n",
        "plt.xlabel(\"Predicted label\")\n",
        "plt.grid(False)\n",
        "plt.show()\n",
        "\n"
      ],
      "metadata": {
        "colab": {
          "base_uri": "https://localhost:8080/",
          "height": 896
        },
        "id": "QBxa1LADrQqa",
        "outputId": "e1929ed0-b2b9-4c0f-ea51-015aeb3f7b36"
      },
      "execution_count": 40,
      "outputs": [
        {
          "output_type": "stream",
          "name": "stdout",
          "text": [
            "accuracy score   0.9945820433436533\n"
          ]
        },
        {
          "output_type": "display_data",
          "data": {
            "text/plain": [
              "<Figure size 1000x1000 with 2 Axes>"
            ],
            "image/png": "[encoded data removed]"
          },
          "metadata": {}
        }
      ]
    }
  ]
}